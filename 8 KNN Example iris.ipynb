{
 "cells": [
  {
   "cell_type": "code",
   "execution_count": 1,
   "metadata": {},
   "outputs": [
    {
     "name": "stdout",
     "output_type": "stream",
     "text": [
      "Note: you may need to restart the kernel to use updated packages.Collecting scikit-learn\n",
      "  Downloading scikit_learn-1.6.1-cp311-cp311-win_amd64.whl.metadata (15 kB)\n",
      "Requirement already satisfied: numpy>=1.19.5 in c:\\users\\sickl\\onedrive\\documents\\school\\2025\\data mining - 540\\python scripts\\datamining\\lib\\site-packages (from scikit-learn) (2.2.2)\n",
      "Requirement already satisfied: scipy>=1.6.0 in c:\\users\\sickl\\onedrive\\documents\\school\\2025\\data mining - 540\\python scripts\\datamining\\lib\\site-packages (from scikit-learn) (1.15.2)\n",
      "Collecting joblib>=1.2.0 (from scikit-learn)\n",
      "  Downloading joblib-1.4.2-py3-none-any.whl.metadata (5.4 kB)\n",
      "Collecting threadpoolctl>=3.1.0 (from scikit-learn)\n",
      "  Downloading threadpoolctl-3.5.0-py3-none-any.whl.metadata (13 kB)\n",
      "Downloading scikit_learn-1.6.1-cp311-cp311-win_amd64.whl (11.1 MB)\n",
      "   ---------------------------------------- 0.0/11.1 MB ? eta -:--:--\n",
      "   ---------------------------------------- 0.0/11.1 MB 2.0 MB/s eta 0:00:06\n",
      "   - -------------------------------------- 0.3/11.1 MB 3.8 MB/s eta 0:00:03\n",
      "   -- ------------------------------------- 0.8/11.1 MB 6.1 MB/s eta 0:00:02\n",
      "   ----- ---------------------------------- 1.5/11.1 MB 8.6 MB/s eta 0:00:02\n",
      "   ------ --------------------------------- 1.9/11.1 MB 8.7 MB/s eta 0:00:02\n",
      "   --------- ------------------------------ 2.7/11.1 MB 10.2 MB/s eta 0:00:01\n",
      "   ----------- ---------------------------- 3.2/11.1 MB 10.1 MB/s eta 0:00:01\n",
      "   ------------- -------------------------- 3.7/11.1 MB 10.4 MB/s eta 0:00:01\n",
      "   --------------- ------------------------ 4.4/11.1 MB 10.9 MB/s eta 0:00:01\n",
      "   ----------------- ---------------------- 4.8/11.1 MB 10.7 MB/s eta 0:00:01\n",
      "   ------------------- -------------------- 5.3/11.1 MB 10.6 MB/s eta 0:00:01\n",
      "   -------------------- ------------------- 5.8/11.1 MB 10.5 MB/s eta 0:00:01\n",
      "   ---------------------- ----------------- 6.1/11.1 MB 10.3 MB/s eta 0:00:01\n",
      "   ----------------------- ---------------- 6.6/11.1 MB 10.3 MB/s eta 0:00:01\n",
      "   ------------------------- -------------- 7.0/11.1 MB 10.2 MB/s eta 0:00:01\n",
      "   -------------------------- ------------- 7.3/11.1 MB 10.0 MB/s eta 0:00:01\n",
      "   -------------------------- ------------- 7.5/11.1 MB 9.6 MB/s eta 0:00:01\n",
      "   --------------------------- ------------ 7.7/11.1 MB 9.3 MB/s eta 0:00:01\n",
      "   ---------------------------- ----------- 8.0/11.1 MB 9.2 MB/s eta 0:00:01\n",
      "   ------------------------------ --------- 8.4/11.1 MB 9.1 MB/s eta 0:00:01\n",
      "   -------------------------------- ------- 8.9/11.1 MB 9.2 MB/s eta 0:00:01\n",
      "   -------------------------------- ------- 9.1/11.1 MB 9.0 MB/s eta 0:00:01\n",
      "   --------------------------------- ------ 9.4/11.1 MB 8.8 MB/s eta 0:00:01\n",
      "   ---------------------------------- ----- 9.7/11.1 MB 8.7 MB/s eta 0:00:01\n",
      "   ----------------------------------- ---- 9.9/11.1 MB 8.6 MB/s eta 0:00:01\n",
      "   ------------------------------------ --- 10.3/11.1 MB 8.6 MB/s eta 0:00:01\n",
      "   ------------------------------------- -- 10.6/11.1 MB 8.8 MB/s eta 0:00:01\n",
      "   -------------------------------------- - 10.8/11.1 MB 8.6 MB/s eta 0:00:01\n",
      "   ---------------------------------------  11.0/11.1 MB 8.5 MB/s eta 0:00:01\n",
      "   ---------------------------------------  11.1/11.1 MB 8.3 MB/s eta 0:00:01\n",
      "   ---------------------------------------- 11.1/11.1 MB 8.2 MB/s eta 0:00:00\n",
      "Downloading joblib-1.4.2-py3-none-any.whl (301 kB)\n",
      "   ---------------------------------------- 0.0/301.8 kB ? eta -:--:--\n",
      "   ---------------------------------------- 301.8/301.8 kB 9.1 MB/s eta 0:00:00\n",
      "Downloading threadpoolctl-3.5.0-py3-none-any.whl (18 kB)\n",
      "Installing collected packages: threadpoolctl, joblib, scikit-learn\n",
      "Successfully installed joblib-1.4.2 scikit-learn-1.6.1 threadpoolctl-3.5.0\n",
      "\n"
     ]
    },
    {
     "name": "stderr",
     "output_type": "stream",
     "text": [
      "\n",
      "[notice] A new release of pip is available: 24.0 -> 25.0.1\n",
      "[notice] To update, run: python.exe -m pip install --upgrade pip\n"
     ]
    }
   ],
   "source": [
    "%pip install scikit-learn"
   ]
  },
  {
   "cell_type": "code",
   "execution_count": 2,
   "metadata": {},
   "outputs": [],
   "source": [
    "import pandas as pd\n",
    "from sklearn.neighbors import KNeighborsClassifier # neighbors is a sub-module of sklearn\n",
    "from sklearn.model_selection import train_test_split\n",
    "import matplotlib.pylab as plt\n"
   ]
  },
  {
   "cell_type": "code",
   "execution_count": 3,
   "metadata": {},
   "outputs": [
    {
     "data": {
      "text/html": [
       "<div>\n",
       "<style scoped>\n",
       "    .dataframe tbody tr th:only-of-type {\n",
       "        vertical-align: middle;\n",
       "    }\n",
       "\n",
       "    .dataframe tbody tr th {\n",
       "        vertical-align: top;\n",
       "    }\n",
       "\n",
       "    .dataframe thead th {\n",
       "        text-align: right;\n",
       "    }\n",
       "</style>\n",
       "<table border=\"1\" class=\"dataframe\">\n",
       "  <thead>\n",
       "    <tr style=\"text-align: right;\">\n",
       "      <th></th>\n",
       "      <th>sepal_length</th>\n",
       "      <th>sepal_width</th>\n",
       "      <th>petal_length</th>\n",
       "      <th>petal_width</th>\n",
       "      <th>species</th>\n",
       "    </tr>\n",
       "  </thead>\n",
       "  <tbody>\n",
       "    <tr>\n",
       "      <th>0</th>\n",
       "      <td>5.1</td>\n",
       "      <td>3.5</td>\n",
       "      <td>1.4</td>\n",
       "      <td>0.2</td>\n",
       "      <td>setosa</td>\n",
       "    </tr>\n",
       "    <tr>\n",
       "      <th>1</th>\n",
       "      <td>4.9</td>\n",
       "      <td>3.0</td>\n",
       "      <td>1.4</td>\n",
       "      <td>0.2</td>\n",
       "      <td>setosa</td>\n",
       "    </tr>\n",
       "    <tr>\n",
       "      <th>2</th>\n",
       "      <td>4.7</td>\n",
       "      <td>3.2</td>\n",
       "      <td>1.3</td>\n",
       "      <td>0.2</td>\n",
       "      <td>setosa</td>\n",
       "    </tr>\n",
       "    <tr>\n",
       "      <th>3</th>\n",
       "      <td>4.6</td>\n",
       "      <td>3.1</td>\n",
       "      <td>1.5</td>\n",
       "      <td>0.2</td>\n",
       "      <td>setosa</td>\n",
       "    </tr>\n",
       "    <tr>\n",
       "      <th>4</th>\n",
       "      <td>5.0</td>\n",
       "      <td>3.6</td>\n",
       "      <td>1.4</td>\n",
       "      <td>0.2</td>\n",
       "      <td>setosa</td>\n",
       "    </tr>\n",
       "  </tbody>\n",
       "</table>\n",
       "</div>"
      ],
      "text/plain": [
       "   sepal_length  sepal_width  petal_length  petal_width species\n",
       "0           5.1          3.5           1.4          0.2  setosa\n",
       "1           4.9          3.0           1.4          0.2  setosa\n",
       "2           4.7          3.2           1.3          0.2  setosa\n",
       "3           4.6          3.1           1.5          0.2  setosa\n",
       "4           5.0          3.6           1.4          0.2  setosa"
      ]
     },
     "execution_count": 3,
     "metadata": {},
     "output_type": "execute_result"
    }
   ],
   "source": [
    "# Load the dataset from OpenML\n",
    "iris_df = pd.read_csv(\"https://raw.githubusercontent.com/mwaskom/seaborn-data/master/iris.csv\")\n",
    "\n",
    "# Display first 5 rows\n",
    "iris_df.head()"
   ]
  },
  {
   "cell_type": "code",
   "execution_count": 4,
   "metadata": {},
   "outputs": [
    {
     "data": {
      "text/plain": [
       "species\n",
       "setosa        50\n",
       "versicolor    50\n",
       "virginica     50\n",
       "Name: count, dtype: int64"
      ]
     },
     "execution_count": 4,
     "metadata": {},
     "output_type": "execute_result"
    }
   ],
   "source": [
    "iris_df['species'].value_counts()"
   ]
  },
  {
   "cell_type": "code",
   "execution_count": 5,
   "metadata": {},
   "outputs": [
    {
     "name": "stdout",
     "output_type": "stream",
     "text": [
      "<class 'pandas.core.frame.DataFrame'>\n",
      "RangeIndex: 150 entries, 0 to 149\n",
      "Data columns (total 5 columns):\n",
      " #   Column        Non-Null Count  Dtype  \n",
      "---  ------        --------------  -----  \n",
      " 0   sepal_length  150 non-null    float64\n",
      " 1   sepal_width   150 non-null    float64\n",
      " 2   petal_length  150 non-null    float64\n",
      " 3   petal_width   150 non-null    float64\n",
      " 4   species       150 non-null    object \n",
      "dtypes: float64(4), object(1)\n",
      "memory usage: 6.0+ KB\n"
     ]
    }
   ],
   "source": [
    "iris_df.info()"
   ]
  },
  {
   "cell_type": "code",
   "execution_count": 6,
   "metadata": {},
   "outputs": [],
   "source": [
    "iris_df = iris_df.dropna() # drop rows with missing values"
   ]
  },
  {
   "cell_type": "code",
   "execution_count": null,
   "metadata": {},
   "outputs": [],
   "source": [
    "# Define features (independent variables)\n",
    "X = iris_df.iloc[:,0:4]\n",
    "# or\n",
    "#X =[[\"sepal_length\", \"sepal_width\", \"petal_length\", \"petal_width\"]]\n",
    "\n",
    "\n",
    "# Define target (dependent variable)\n",
    "#y = iris_df[\"species\"]\n",
    "#or\n",
    "y = iris_df.iloc[:,4]"
   ]
  },
  {
   "cell_type": "code",
   "execution_count": null,
   "metadata": {},
   "outputs": [],
   "source": [
    "split_data=train_test_split(X, y, test_size=0.3, random_state=42) \n",
    "# we will train the model with 80% of the data and test with 20% (test_size=0.3)\n",
    "# random_state is used to set the seed for random number generator, so that we can reproduce the same results\n",
    "# train_test_split returns a tuple of 4 elements: X_train, X_test, y_train, y_test\n",
    "\n",
    "X_train, X_test, y_train, y_test = split_data"
   ]
  },
  {
   "cell_type": "code",
   "execution_count": null,
   "metadata": {},
   "outputs": [],
   "source": [
    "\n",
    "# Create a KNN classifier with 7 neighbors\n",
    "\n",
    "m1 = KNeighborsClassifier(n_neighbors=7) #This creates the model but does not train it yet.\n",
    "\n",
    "m1.fit(X_train, y_train)\n",
    "\n"
   ]
  },
  {
   "cell_type": "code",
   "execution_count": null,
   "metadata": {},
   "outputs": [],
   "source": [
    "prediction = m1.predict(X_test)"
   ]
  },
  {
   "cell_type": "code",
   "execution_count": null,
   "metadata": {},
   "outputs": [],
   "source": [
    "print(prediction) #print out the predicted values"
   ]
  },
  {
   "cell_type": "code",
   "execution_count": null,
   "metadata": {},
   "outputs": [],
   "source": [
    "y_test"
   ]
  },
  {
   "cell_type": "code",
   "execution_count": null,
   "metadata": {},
   "outputs": [],
   "source": [
    "\n",
    "\n",
    "from sklearn.metrics import accuracy_score\n",
    "\n",
    "accuracy_score(y_test, prediction)"
   ]
  }
 ],
 "metadata": {
  "kernelspec": {
   "display_name": "datamining",
   "language": "python",
   "name": "python3"
  },
  "language_info": {
   "codemirror_mode": {
    "name": "ipython",
    "version": 3
   },
   "file_extension": ".py",
   "mimetype": "text/x-python",
   "name": "python",
   "nbconvert_exporter": "python",
   "pygments_lexer": "ipython3",
   "version": "3.11.9"
  }
 },
 "nbformat": 4,
 "nbformat_minor": 2
}
